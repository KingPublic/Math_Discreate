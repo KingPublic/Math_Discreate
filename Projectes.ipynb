{
  "nbformat": 4,
  "nbformat_minor": 0,
  "metadata": {
    "colab": {
      "provenance": []
    },
    "kernelspec": {
      "name": "python3",
      "display_name": "Python 3"
    },
    "language_info": {
      "name": "python"
    }
  },
  "cells": [
    {
      "cell_type": "code",
      "execution_count": null,
      "metadata": {
        "id": "bb08fcPfxbJ2"
      },
      "outputs": [],
      "source": [
        "class Shiapcrypto:\n",
        "    def __init__(self, secret_key='AFVM'):\n",
        "        self.__secret_key = secret_key\n",
        "        self.__B1, self.__B2, self.__B3, self.__B4 = self.generate_keys(secret_key)\n",
        "\n",
        "    def generate_keys(self, secret_key):\n",
        "        \"\"\"Generate B1, B2, B3, B4 from the secret key.\"\"\"\n",
        "        B1 = ord(secret_key[0]) if len(secret_key) > 0 else 0\n",
        "        B2 = ord(secret_key[1]) if len(secret_key) > 1 else 0\n",
        "        B3 = ord(secret_key[2]) if len(secret_key) > 2 else 0\n",
        "        B4 = ord(secret_key[3]) if len(secret_key) > 3 else 0\n",
        "        return B1, B2, B3, B4\n",
        "\n",
        "    def encrypt(self, plaintext):\n",
        "        \"\"\"Encrypts the plaintext using the generated keys.\"\"\"\n",
        "        ciphertext = ''\n",
        "        for char in plaintext:\n",
        "            # rule ((((A ^ B1) ^ B2) ^ B3) ^ B4) → C\n",
        "            encrypted_char = chr(((((ord(char) ^ self.__B1) ^ self.__B2) ^ self.__B3) ^ self.__B4))\n",
        "            ciphertext += encrypted_char\n",
        "        return ciphertext\n",
        "\n",
        "    def decrypt(self, ciphertext):\n",
        "        \"\"\"Decrypts the ciphertext using the generated keys.\"\"\"\n",
        "        plaintext = ''\n",
        "        for char in ciphertext:\n",
        "            # Decryption (same as encryption because XOR is symmetric)\n",
        "            decrypted_char = chr(((((ord(char) ^ self.__B4) ^ self.__B3) ^ self.__B2) ^ self.__B1))\n",
        "            plaintext += decrypted_char\n",
        "        return plaintext\n",
        "\n",
        "    def update_key(self, new_key='default'):\n",
        "        \"\"\"Update the secret key and regenerate the binary keys.\"\"\"\n",
        "        self.__secret_key = new_key\n",
        "        self.__B1, self.__B2, self.__B3, self.__B4 = self.generate_keys(new_key)\n",
        "\n",
        "\n",
        "# # Example Usage:\n",
        "# crypt_system = XORCrypt('key123')\n",
        "# plaintext = \"HELLO\"\n",
        "# ciphertext = crypt_system.encrypt(plaintext)\n",
        "# print(f\"Encrypted Text: {ciphertext}\")\n",
        "\n",
        "# decrypted_text = crypt_system.decrypt(ciphertext)\n",
        "# print(f\"Decrypted Text: {decrypted_text}\")\n"
      ]
    },
    {
      "cell_type": "code",
      "source": [
        "cry = Shiapcrypto()"
      ],
      "metadata": {
        "id": "dqIZv7cAyYDa"
      },
      "execution_count": null,
      "outputs": []
    },
    {
      "cell_type": "code",
      "source": [
        "cry.encrypt(\"HELLO\")"
      ],
      "metadata": {
        "colab": {
          "base_uri": "https://localhost:8080/",
          "height": 36
        },
        "id": "QmoqH3rgycAZ",
        "outputId": "8d3cff65-b140-4727-967f-1852640c103a"
      },
      "execution_count": null,
      "outputs": [
        {
          "output_type": "execute_result",
          "data": {
            "text/plain": [
              "'TYPPS'"
            ],
            "application/vnd.google.colaboratory.intrinsic+json": {
              "type": "string"
            }
          },
          "metadata": {},
          "execution_count": 5
        }
      ]
    },
    {
      "cell_type": "code",
      "source": [
        "cry.decrypt(\"TYPPS\")"
      ],
      "metadata": {
        "colab": {
          "base_uri": "https://localhost:8080/",
          "height": 36
        },
        "id": "QfsEVdJxyiPg",
        "outputId": "239f7129-23ed-459f-d69f-a598a9c47a93"
      },
      "execution_count": null,
      "outputs": [
        {
          "output_type": "execute_result",
          "data": {
            "text/plain": [
              "'HELLO'"
            ],
            "application/vnd.google.colaboratory.intrinsic+json": {
              "type": "string"
            }
          },
          "metadata": {},
          "execution_count": 6
        }
      ]
    },
    {
      "cell_type": "code",
      "source": [
        "cry = cryptographic(\"Semarang\")"
      ],
      "metadata": {
        "id": "70jsJ3E_6dCD"
      },
      "execution_count": null,
      "outputs": []
    },
    {
      "cell_type": "code",
      "source": [
        "cry.encription(\"WHY BRO\")"
      ],
      "metadata": {
        "colab": {
          "base_uri": "https://localhost:8080/",
          "height": 141
        },
        "id": "AdEVH2cL6u-F",
        "outputId": "1c25372b-527f-4259-c31e-8e1cf96dc1ff"
      },
      "execution_count": null,
      "outputs": [
        {
          "output_type": "error",
          "ename": "AttributeError",
          "evalue": "'cryptographic' object has no attribute 'encription'",
          "traceback": [
            "\u001b[0;31m---------------------------------------------------------------------------\u001b[0m",
            "\u001b[0;31mAttributeError\u001b[0m                            Traceback (most recent call last)",
            "\u001b[0;32m<ipython-input-17-b90490271f92>\u001b[0m in \u001b[0;36m<cell line: 1>\u001b[0;34m()\u001b[0m\n\u001b[0;32m----> 1\u001b[0;31m \u001b[0mcry\u001b[0m\u001b[0;34m.\u001b[0m\u001b[0mencription\u001b[0m\u001b[0;34m(\u001b[0m\u001b[0;34m\"WHY BRO\"\u001b[0m\u001b[0;34m)\u001b[0m\u001b[0;34m\u001b[0m\u001b[0;34m\u001b[0m\u001b[0m\n\u001b[0m",
            "\u001b[0;31mAttributeError\u001b[0m: 'cryptographic' object has no attribute 'encription'"
          ]
        }
      ]
    }
  ]
}